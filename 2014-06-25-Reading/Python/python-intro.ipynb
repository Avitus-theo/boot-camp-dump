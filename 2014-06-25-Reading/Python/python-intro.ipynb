{
 "metadata": {
  "name": ""
 },
 "nbformat": 3,
 "nbformat_minor": 0,
 "worksheets": [
  {
   "cells": [
    {
     "cell_type": "code",
     "collapsed": false,
     "input": [
      "import numpy"
     ],
     "language": "python",
     "metadata": {},
     "outputs": [],
     "prompt_number": 1
    },
    {
     "cell_type": "markdown",
     "metadata": {},
     "source": [
      "##Data Types"
     ]
    },
    {
     "cell_type": "markdown",
     "metadata": {},
     "source": [
      "###Numbers and basic operations"
     ]
    },
    {
     "cell_type": "code",
     "collapsed": false,
     "input": [
      "x = 4\n",
      "y = 5\n",
      "print x*y\n",
      "z=7.0\n",
      "print (x*y)/z"
     ],
     "language": "python",
     "metadata": {},
     "outputs": [
      {
       "output_type": "stream",
       "stream": "stdout",
       "text": [
        "20\n",
        "2.85714285714\n"
       ]
      }
     ],
     "prompt_number": 2
    },
    {
     "cell_type": "markdown",
     "metadata": {},
     "source": [
      "###Strings"
     ]
    },
    {
     "cell_type": "code",
     "collapsed": false,
     "input": [],
     "language": "python",
     "metadata": {},
     "outputs": [
      {
       "output_type": "stream",
       "stream": "stdout",
       "text": [
        "raspberry split\n"
       ]
      }
     ],
     "prompt_number": 3
    },
    {
     "cell_type": "markdown",
     "metadata": {},
     "source": [
      "### Lists + Slicing\n",
      "\n",
      "A list is an ordered, indexable collection of data. Lets say you have collected some current and voltage data that looks like this:\n",
      "\n",
      "    voltages:\n",
      "    -2.0\n",
      "    -1.0\n",
      "     0.0\n",
      "     1.0\n",
      "     2.0\n",
      "\n",
      "    currents:\n",
      "    -1.0\n",
      "    -0.5\n",
      "     0.0\n",
      "     0.5\n",
      "     1.0\n",
      "\n",
      "So you could put that data into lists like"
     ]
    },
    {
     "cell_type": "code",
     "collapsed": false,
     "input": [
      "voltages = [-2.0, -1.0, 0.0, 1.0, 2.0]\n",
      "\n",
      "currents = [-1.0, -0.5, 0.0, 0.5, 1.0]\n",
      "\n"
     ],
     "language": "python",
     "metadata": {},
     "outputs": [],
     "prompt_number": 5
    },
    {
     "cell_type": "code",
     "collapsed": false,
     "input": [
      "print voltages[1,3]\n",
      "\n"
     ],
     "language": "python",
     "metadata": {},
     "outputs": [
      {
       "ename": "TypeError",
       "evalue": "list indices must be integers, not tuple",
       "output_type": "pyerr",
       "traceback": [
        "\u001b[1;31m---------------------------------------------------------------------------\u001b[0m\n\u001b[1;31mTypeError\u001b[0m                                 Traceback (most recent call last)",
        "\u001b[1;32m<ipython-input-7-c4b022cc9826>\u001b[0m in \u001b[0;36m<module>\u001b[1;34m()\u001b[0m\n\u001b[1;32m----> 1\u001b[1;33m \u001b[1;32mprint\u001b[0m \u001b[0mvoltages\u001b[0m\u001b[1;33m[\u001b[0m\u001b[1;36m1\u001b[0m\u001b[1;33m,\u001b[0m\u001b[1;36m3\u001b[0m\u001b[1;33m]\u001b[0m\u001b[1;33m\u001b[0m\u001b[0m\n\u001b[0m\u001b[0;32m      2\u001b[0m \u001b[1;33m\u001b[0m\u001b[0m\n",
        "\u001b[1;31mTypeError\u001b[0m: list indices must be integers, not tuple"
       ]
      }
     ],
     "prompt_number": 7
    },
    {
     "cell_type": "code",
     "collapsed": false,
     "input": [
      "data_list = [\"experiment: current vs. voltage\", \n",
      "        \"run\", 47,\n",
      "        \"temperature\", 372.756, \n",
      "        \"current\", [-1.0, -0.5, 0.0, 0.5, 1.0], \n",
      "        \"voltage\", [-2.0, -1.0, 0.0, 1.0, 2.0],\n",
      "        ]"
     ],
     "language": "python",
     "metadata": {},
     "outputs": [],
     "prompt_number": 8
    },
    {
     "cell_type": "code",
     "collapsed": false,
     "input": [
      "print data_list[5][2]"
     ],
     "language": "python",
     "metadata": {},
     "outputs": [
      {
       "output_type": "stream",
       "stream": "stdout",
       "text": [
        "r\n"
       ]
      }
     ],
     "prompt_number": 9
    },
    {
     "cell_type": "markdown",
     "metadata": {},
     "source": [
      "###Dictionaries"
     ]
    },
    {
     "cell_type": "markdown",
     "metadata": {},
     "source": [
      "A Python dictionary is a unordered collection of key-value pairs.  Dictionaries are by far the most important data type in Python. The key is a way to name the data, and the value is the data itself. Here's a way to create a dictionary that contains all the data in our data.dat file in a more sensible way than a list."
     ]
    },
    {
     "cell_type": "code",
     "collapsed": false,
     "input": [
      "data_dict = {\"experiment\": \"current vs. voltage\",\n",
      "        \"run\": 47,\n",
      "        \"temperature\": 372.756, \n",
      "        \"currents\": [-1.0, -0.5, 0.0, 0.5, 1.0], \n",
      "        \"voltages\": [-2.0, -1.0, 0.0, 1.0, 2.0],\n",
      "        }"
     ],
     "language": "python",
     "metadata": {},
     "outputs": [],
     "prompt_number": 10
    },
    {
     "cell_type": "code",
     "collapsed": false,
     "input": [
      "print data_dict[\"voltages\"]\n"
     ],
     "language": "python",
     "metadata": {},
     "outputs": [
      {
       "output_type": "stream",
       "stream": "stdout",
       "text": [
        "[-2.0, -1.0, 0.0, 1.0, 2.0]\n"
       ]
      }
     ],
     "prompt_number": 13
    },
    {
     "cell_type": "markdown",
     "metadata": {},
     "source": [
      "##Exercises"
     ]
    },
    {
     "cell_type": "markdown",
     "metadata": {},
     "source": [
      "**Exercise 1** \n",
      "\n",
      "Calculate the mean of the numbers 2, 4, and 10."
     ]
    },
    {
     "cell_type": "code",
     "collapsed": false,
     "input": [
      "print (2+4+10)/3.0"
     ],
     "language": "python",
     "metadata": {},
     "outputs": [
      {
       "output_type": "stream",
       "stream": "stdout",
       "text": [
        "5.33333333333\n"
       ]
      }
     ],
     "prompt_number": 17
    },
    {
     "cell_type": "markdown",
     "metadata": {},
     "source": [
      "**Exercise 2** \n",
      "\n",
      "Run the following cell: "
     ]
    },
    {
     "cell_type": "code",
     "collapsed": false,
     "input": [
      "lst_1 = [1,4,9]\n",
      "lst_2 = lst_1\n",
      "lst_1.append(25)"
     ],
     "language": "python",
     "metadata": {},
     "outputs": [
      {
       "ename": "SyntaxError",
       "evalue": "invalid syntax (<ipython-input-31-e6a26e86aa72>, line 2)",
       "output_type": "pyerr",
       "traceback": [
        "\u001b[1;36m  File \u001b[1;32m\"<ipython-input-31-e6a26e86aa72>\"\u001b[1;36m, line \u001b[1;32m2\u001b[0m\n\u001b[1;33m    lst_2 = lst_1[]\u001b[0m\n\u001b[1;37m                  ^\u001b[0m\n\u001b[1;31mSyntaxError\u001b[0m\u001b[1;31m:\u001b[0m invalid syntax\n"
       ]
      }
     ],
     "prompt_number": 31
    },
    {
     "cell_type": "markdown",
     "metadata": {},
     "source": [
      "What do you predict the following cell will print?  "
     ]
    },
    {
     "cell_type": "code",
     "collapsed": false,
     "input": [
      "print lst_1\n",
      "print lst_2"
     ],
     "language": "python",
     "metadata": {},
     "outputs": [
      {
       "output_type": "stream",
       "stream": "stdout",
       "text": [
        "[1, 4, 9, 25]\n",
        "[1, 4, 9, 25]\n"
       ]
      }
     ],
     "prompt_number": 19
    },
    {
     "cell_type": "markdown",
     "metadata": {},
     "source": [
      "**Exercise 3**"
     ]
    },
    {
     "cell_type": "code",
     "collapsed": false,
     "input": [
      "digitsdict = {\"one\":1, \"two\":2,\"three\":3 }"
     ],
     "language": "python",
     "metadata": {},
     "outputs": [],
     "prompt_number": 20
    },
    {
     "cell_type": "markdown",
     "metadata": {},
     "source": [
      "After running the previous cell, predict the output of the following cell."
     ]
    },
    {
     "cell_type": "code",
     "collapsed": false,
     "input": [
      "print digitsdict[\"one\"] + digitsdict[\"two\"]"
     ],
     "language": "python",
     "metadata": {},
     "outputs": [
      {
       "output_type": "stream",
       "stream": "stdout",
       "text": [
        "3\n"
       ]
      }
     ],
     "prompt_number": 21
    },
    {
     "cell_type": "markdown",
     "metadata": {},
     "source": [
      "**Exercise 4**"
     ]
    },
    {
     "cell_type": "markdown",
     "metadata": {},
     "source": [
      "Given the following list:"
     ]
    },
    {
     "cell_type": "code",
     "collapsed": false,
     "input": [
      "locations = [\"Chicago\", \"Philadelphia\", \"Los Angeles\", \"Northfield\", \"Budapest\", \"Vancouver\"]"
     ],
     "language": "python",
     "metadata": {},
     "outputs": [],
     "prompt_number": 22
    },
    {
     "cell_type": "markdown",
     "metadata": {},
     "source": [
      "How would you access: \n",
      "\n",
      "2. Budapest?\n",
      "1. Philadelphia through Northfield?\n",
      "1. The last element of the list?\n",
      "4. All cities before and including Los Angeles?\n",
      "5. The initials for Los Angeles?  "
     ]
    },
    {
     "cell_type": "code",
     "collapsed": false,
     "input": [
      "print locations[4]\n",
      "print locations[1:4]\n",
      "print locations[-1]\n",
      "print locations[3:]\n",
      "print locations[2][0]+locations[2][4]"
     ],
     "language": "python",
     "metadata": {},
     "outputs": [
      {
       "output_type": "stream",
       "stream": "stdout",
       "text": [
        "Budapest\n",
        "['Philadelphia', 'Los Angeles', 'Northfield']\n",
        "Vancouver\n",
        "['Northfield', 'Budapest', 'Vancouver']\n",
        "LA\n"
       ]
      }
     ],
     "prompt_number": 32
    }
   ],
   "metadata": {}
  }
 ]
}